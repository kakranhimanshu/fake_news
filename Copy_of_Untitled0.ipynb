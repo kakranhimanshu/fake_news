{
  "nbformat": 4,
  "nbformat_minor": 0,
  "metadata": {
    "colab": {
      "provenance": [],
      "authorship_tag": "ABX9TyNp+Hl2gI/zgUVCzJAeiHr0",
      "include_colab_link": true
    },
    "kernelspec": {
      "name": "python3",
      "display_name": "Python 3"
    },
    "language_info": {
      "name": "python"
    }
  },
  "cells": [
    {
      "cell_type": "markdown",
      "metadata": {
        "id": "view-in-github",
        "colab_type": "text"
      },
      "source": [
        "<a href=\"https://colab.research.google.com/github/kakranhimanshu/fake_news/blob/main/Copy_of_Untitled0.ipynb\" target=\"_parent\"><img src=\"https://colab.research.google.com/assets/colab-badge.svg\" alt=\"Open In Colab\"/></a>"
      ]
    },
    {
      "cell_type": "code",
      "execution_count": null,
      "metadata": {
        "colab": {
          "base_uri": "https://localhost:8080/",
          "height": 1000
        },
        "id": "NFr9OV-Hlx-Z",
        "outputId": "62172d77-2c4f-4d53-e908-ff1a95b374a8"
      },
      "outputs": [
        {
          "output_type": "stream",
          "name": "stdout",
          "text": [
            "                                               title  \\\n",
            "0  North Carolina Democrats win extension of vote...   \n",
            "1   This Kansas Republican Thought Touting ‘Profo...   \n",
            "2  REPORT: TRUMP Set Brilliant “Fake News” Trap F...   \n",
            "3  SINS OF SOCIALISM…Doctors Pumping Air Into Inf...   \n",
            "4   Trump Throws An EPIC, Brain-Melting Tantrum A...   \n",
            "\n",
            "                                                text          subject  \\\n",
            "0  WINSTON-SALEM, N.C. (Reuters) - A state judge ...     politicsNews   \n",
            "1  Republicans have a knack for making bad choice...             News   \n",
            "2  According to the Associated Press on Friday, P...  Government News   \n",
            "3  Only the strongest will survive in the dog-eat...  Government News   \n",
            "4  Russia   you know, that country whose leader o...             News   \n",
            "\n",
            "                date  label  \n",
            "0  October 14, 2016       1  \n",
            "1   October 20, 2016      0  \n",
            "2       Feb 18, 2017      0  \n",
            "3       May 16, 2016      0  \n",
            "4   January 11, 2017      0  \n",
            "label\n",
            "0    23481\n",
            "1    21417\n",
            "Name: count, dtype: int64\n",
            "Accuracy: 99.53%\n"
          ]
        },
        {
          "output_type": "display_data",
          "data": {
            "text/plain": [
              "<Figure size 640x480 with 2 Axes>"
            ],
            "image/png": "[encoded data removed]"
          },
          "metadata": {}
        },
        {
          "output_type": "stream",
          "name": "stdout",
          "text": [
            "\n",
            "Classification Report:\n",
            "\n",
            "              precision    recall  f1-score   support\n",
            "\n",
            "           0       0.99      1.00      1.00      5883\n",
            "           1       1.00      0.99      1.00      5342\n",
            "\n",
            "    accuracy                           1.00     11225\n",
            "   macro avg       1.00      1.00      1.00     11225\n",
            "weighted avg       1.00      1.00      1.00     11225\n",
            "\n",
            "Fake News 📰\n"
          ]
        }
      ],
      "source": [
        "# ----------------------------------------\n",
        "# Step 1: Import Libraries\n",
        "# ----------------------------------------\n",
        "\n",
        "import pandas as pd\n",
        "import numpy as np\n",
        "import matplotlib.pyplot as plt\n",
        "import seaborn as sns\n",
        "import string\n",
        "import re\n",
        "from sklearn.model_selection import train_test_split\n",
        "from sklearn.feature_extraction.text import TfidfVectorizer\n",
        "from sklearn.linear_model import PassiveAggressiveClassifier\n",
        "from sklearn.metrics import accuracy_score, confusion_matrix, classification_report\n",
        "\n",
        "# ----------------------------------------\n",
        "# Step 2: Load the Dataset\n",
        "# ----------------------------------------\n",
        "\n",
        "# Load True and Fake datasets\n",
        "true = pd.read_csv('True.csv')\n",
        "fake = pd.read_csv('Fake.csv')\n",
        "\n",
        "# Add labels\n",
        "true['label'] = 1  # Real news\n",
        "fake['label'] = 0  # Fake news\n",
        "\n",
        "# Merge datasets\n",
        "data = pd.concat([true, fake], axis=0)\n",
        "\n",
        "# Shuffle the dataset\n",
        "data = data.sample(frac=1).reset_index(drop=True)\n",
        "\n",
        "# ----------------------------------------\n",
        "# Step 3: Explore the Data\n",
        "# ----------------------------------------\n",
        "\n",
        "print(data.head())\n",
        "print(data['label'].value_counts())\n",
        "\n",
        "# ----------------------------------------\n",
        "# Step 4: Text Cleaning (optional but good practice)\n",
        "# ----------------------------------------\n",
        "\n",
        "def clean_text(text):\n",
        "    text = text.lower()  # Lowercase\n",
        "    text = re.sub('\\[.*?\\]', '', text)  # Remove text in brackets\n",
        "    text = re.sub('https?://\\S+|www\\.\\S+', '', text)  # Remove links\n",
        "    text = re.sub('<.*?>+', '', text)  # Remove HTML tags\n",
        "    text = re.sub('[%s]' % re.escape(string.punctuation), '', text)  # Remove punctuation\n",
        "    text = re.sub('\\n', '', text)  # Remove line breaks\n",
        "    text = re.sub('\\w*\\d\\w*', '', text)  # Remove words containing numbers\n",
        "    return text\n",
        "\n",
        "data['text'] = data['title'] + \" \" + data['text']  # Combine title and body\n",
        "data['text'] = data['text'].apply(clean_text)\n",
        "\n",
        "# ----------------------------------------\n",
        "# Step 5: Split the Dataset\n",
        "# ----------------------------------------\n",
        "\n",
        "X = data['text']\n",
        "y = data['label']\n",
        "\n",
        "X_train, X_test, y_train, y_test = train_test_split(X, y, test_size=0.25, random_state=42)\n",
        "\n",
        "# ----------------------------------------\n",
        "# Step 6: Text Vectorization\n",
        "# ----------------------------------------\n",
        "\n",
        "vectorizer = TfidfVectorizer(stop_words='english', max_df=0.7)\n",
        "tfidf_train = vectorizer.fit_transform(X_train)\n",
        "tfidf_test = vectorizer.transform(X_test)\n",
        "\n",
        "# ----------------------------------------\n",
        "# Step 7: Model Training\n",
        "# ----------------------------------------\n",
        "\n",
        "model = PassiveAggressiveClassifier(max_iter=50)\n",
        "model.fit(tfidf_train, y_train)\n",
        "\n",
        "# ----------------------------------------\n",
        "# Step 8: Model Evaluation\n",
        "# ----------------------------------------\n",
        "\n",
        "y_pred = model.predict(tfidf_test)\n",
        "score = accuracy_score(y_test, y_pred)\n",
        "print(f\"Accuracy: {round(score*100, 2)}%\")\n",
        "\n",
        "conf_mat = confusion_matrix(y_test, y_pred)\n",
        "sns.heatmap(conf_mat, annot=True, fmt='d', cmap='Blues')\n",
        "plt.xlabel('Predicted')\n",
        "plt.ylabel('Actual')\n",
        "plt.title('Confusion Matrix')\n",
        "plt.show()\n",
        "\n",
        "print(\"\\nClassification Report:\\n\")\n",
        "print(classification_report(y_test, y_pred))\n",
        "\n",
        "# ----------------------------------------\n",
        "# Step 9: Test Your Model (Optional)\n",
        "# ----------------------------------------\n",
        "\n",
        "def predict_news(news_text):\n",
        "    cleaned = clean_text(news_text)\n",
        "    vectorized = vectorizer.transform([cleaned])\n",
        "    prediction = model.predict(vectorized)\n",
        "    if prediction[0] == 1:\n",
        "        return \"Real News 📰\"\n",
        "    else:\n",
        "        return \"Fake News 📰\"\n",
        "\n",
        "# Example\n",
        "sample_text = \"himanshu says he won the 2020 election by a landslide.\"\n",
        "print(predict_news(sample_text))"
      ]
    },
    {
      "cell_type": "code",
      "source": [
        "def predict_news(news_text):\n",
        "    cleaned = clean_text(news_text)\n",
        "    vectorized = vectorizer.transform([cleaned])\n",
        "    prediction = model.predict(vectorized)\n",
        "    if prediction[0] == 1:\n",
        "        return \"Real News 📰\"\n",
        "    else:\n",
        "        return \"Fake News 📰\"\n",
        "\n",
        "# Example\n",
        "sample_text = \"himanshu says he won the 2020 election by a landslide.\"\n",
        "print(predict_news(sample_text))"
      ],
      "metadata": {
        "colab": {
          "base_uri": "https://localhost:8080/"
        },
        "id": "602_uVy4nXt9",
        "outputId": "608f8763-1780-40c7-e058-7c52793e7b4c"
      },
      "execution_count": null,
      "outputs": [
        {
          "output_type": "stream",
          "name": "stdout",
          "text": [
            "Fake News 📰\n"
          ]
        }
      ]
    }
  ]
}